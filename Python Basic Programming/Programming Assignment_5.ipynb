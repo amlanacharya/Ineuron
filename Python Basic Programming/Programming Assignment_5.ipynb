{
 "cells": [
  {
   "cell_type": "markdown",
   "metadata": {},
   "source": [
    "### 1. Write a Python Program to Find LCM?"
   ]
  },
  {
   "cell_type": "code",
   "execution_count": 1,
   "metadata": {},
   "outputs": [],
   "source": [
    "def lcm(num_1,num_2):\n",
    "    if num_1>num_2:\n",
    "        max = num_1\n",
    "    else:\n",
    "        max = num_2\n",
    "    while True:\n",
    "        if max%num_1==0 and max%num_2==0:\n",
    "            print(\"LCM of {} and {} is {}\".format(num_1, num_2, max))\n",
    "            break\n",
    "        max = max+1\n",
    "        \n",
    "    \n",
    "    "
   ]
  },
  {
   "cell_type": "code",
   "execution_count": 2,
   "metadata": {},
   "outputs": [
    {
     "name": "stdout",
     "output_type": "stream",
     "text": [
      "LCM of 8 and 6 is 24\n"
     ]
    }
   ],
   "source": [
    "lcm(8,6)"
   ]
  },
  {
   "cell_type": "markdown",
   "metadata": {},
   "source": [
    "### 2. Write a Python Program to Find HCF?"
   ]
  },
  {
   "cell_type": "code",
   "execution_count": 3,
   "metadata": {},
   "outputs": [
    {
     "name": "stdout",
     "output_type": "stream",
     "text": [
      "The H.C.F. is 4\n"
     ]
    }
   ],
   "source": [
    "\n",
    "def hcf(x, y):\n",
    "    if x > y:\n",
    "        min = y\n",
    "    else:\n",
    "        min = x\n",
    "    for i in range(1, min+1):\n",
    "        if((x % i == 0) and (y % i == 0)):\n",
    "            hcf = i \n",
    "    return hcf\n",
    "\n",
    "num1 = 4\n",
    "num2 = 24\n",
    "\n",
    "print(\"The H.C.F. is\", hcf(num1, num2))\n"
   ]
  },
  {
   "cell_type": "code",
   "execution_count": 4,
   "metadata": {},
   "outputs": [
    {
     "data": {
      "text/plain": [
       "12"
      ]
     },
     "execution_count": 4,
     "metadata": {},
     "output_type": "execute_result"
    }
   ],
   "source": [
    "hcf(12,24)"
   ]
  },
  {
   "cell_type": "markdown",
   "metadata": {},
   "source": [
    "### 3. Write a Python Program to Convert Decimal to Binary, Octal and Hexadecimal?"
   ]
  },
  {
   "cell_type": "code",
   "execution_count": 5,
   "metadata": {},
   "outputs": [
    {
     "name": "stdout",
     "output_type": "stream",
     "text": [
      "Enter Decimal Number: 1\n",
      "Decimal to Binary:  0b1\n",
      "Decimal to Octal:  0o1\n",
      "Decimal to Hexadecimal:  0x1\n"
     ]
    }
   ],
   "source": [
    "num = int(input(\"Enter Decimal Number: \"))\n",
    "print(\"Decimal to Binary: \",bin(num))\n",
    "print(\"Decimal to Octal: \",oct(num))\n",
    "print(\"Decimal to Hexadecimal: \",hex(num))\n",
    "\n",
    "    \n",
    "    \n",
    "        \n",
    "        \n",
    "    "
   ]
  },
  {
   "cell_type": "markdown",
   "metadata": {},
   "source": [
    "### 4. Write a Python Program To Find ASCII value of a character?"
   ]
  },
  {
   "cell_type": "code",
   "execution_count": 7,
   "metadata": {},
   "outputs": [
    {
     "data": {
      "text/plain": [
       "98"
      ]
     },
     "execution_count": 7,
     "metadata": {},
     "output_type": "execute_result"
    }
   ],
   "source": [
    "def ascii_value(character):\n",
    "    return ord(character)\n",
    "\n",
    "ascii_value(\"b\")\n"
   ]
  },
  {
   "cell_type": "markdown",
   "metadata": {},
   "source": [
    "### 5. Write a Python Program to Make a Simple Calculator with 4 basic mathematical operations?"
   ]
  },
  {
   "cell_type": "code",
   "execution_count": 8,
   "metadata": {},
   "outputs": [],
   "source": [
    "def calculator(a,b):\n",
    "    ops = str(input(\"What operation would you like to perform: \"))\n",
    "    if ops == \"add\":\n",
    "        print(\"{} + {} = {}\".format(a,b,a+b))\n",
    "    elif ops == \"substract\":\n",
    "        print(\"{} - {} = {}\".format(a,b,a-b))\n",
    "    elif ops == \"multiply\":\n",
    "        print(\"{} X {} = {}\".format(a,b,a*b))\n",
    "    elif ops == \"divide\":\n",
    "        print(\"{} / {} = {}\".format(a,b,a/b))\n",
    "    else:\n",
    "        print(\"Enter correct operation\")\n",
    "        \n",
    "    "
   ]
  },
  {
   "cell_type": "code",
   "execution_count": 9,
   "metadata": {},
   "outputs": [
    {
     "name": "stdout",
     "output_type": "stream",
     "text": [
      "What operation would you like to perform: divide\n",
      "9 / 79 = 0.11392405063291139\n"
     ]
    }
   ],
   "source": [
    "calculator(9,79)"
   ]
  },
  {
   "cell_type": "code",
   "execution_count": 10,
   "metadata": {},
   "outputs": [
    {
     "name": "stdout",
     "output_type": "stream",
     "text": [
      "What operation would you like to perform: add\n",
      "5 + 5 = 10\n"
     ]
    }
   ],
   "source": [
    "calculator(5,5)"
   ]
  },
  {
   "cell_type": "code",
   "execution_count": null,
   "metadata": {},
   "outputs": [],
   "source": []
  }
 ],
 "metadata": {
  "kernelspec": {
   "display_name": "Python 3",
   "language": "python",
   "name": "python3"
  },
  "language_info": {
   "codemirror_mode": {
    "name": "ipython",
    "version": 3
   },
   "file_extension": ".py",
   "mimetype": "text/x-python",
   "name": "python",
   "nbconvert_exporter": "python",
   "pygments_lexer": "ipython3",
   "version": "3.8.8"
  }
 },
 "nbformat": 4,
 "nbformat_minor": 4
}
