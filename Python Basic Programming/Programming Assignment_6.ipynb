{
 "cells": [
  {
   "cell_type": "markdown",
   "metadata": {},
   "source": [
    "### 1. Write a Python Program to Display Fibonacci Sequence Using Recursion?"
   ]
  },
  {
   "cell_type": "code",
   "execution_count": 3,
   "metadata": {},
   "outputs": [
    {
     "name": "stdout",
     "output_type": "stream",
     "text": [
      "Required length of the series: 5\n",
      "0\n",
      "1\n",
      "1\n",
      "2\n",
      "3\n",
      "None\n"
     ]
    }
   ],
   "source": [
    "def fibonacci(a,b,n):\n",
    "    if n==0:\n",
    "        return\n",
    "    result = a+b\n",
    "    print(result)\n",
    "    fibonacci(b, result, n-1 )\n",
    "\n",
    "x = 0\n",
    "y = 1\n",
    "num = int(input(\"Required length of the series: \"))\n",
    "print(x)\n",
    "print(y)\n",
    "\n",
    "print(fibonacci(x,y,num-2)) # n-2 since we already print x and y"
   ]
  },
  {
   "cell_type": "markdown",
   "metadata": {},
   "source": [
    "### 2. Write a Python Program to Find Factorial of Number Using Recursion?"
   ]
  },
  {
   "cell_type": "code",
   "execution_count": 4,
   "metadata": {},
   "outputs": [
    {
     "name": "stdout",
     "output_type": "stream",
     "text": [
      "Enter a number :9\n"
     ]
    },
    {
     "data": {
      "text/plain": [
       "362880"
      ]
     },
     "execution_count": 4,
     "metadata": {},
     "output_type": "execute_result"
    }
   ],
   "source": [
    "def fact(n):\n",
    "    if n==0:\n",
    "        return 1\n",
    "    return n*fact(n-1)\n",
    "\n",
    "num=int(input(\"Enter a number :\"))\n",
    "fact(num)\n",
    "\n",
    "    "
   ]
  },
  {
   "cell_type": "markdown",
   "metadata": {},
   "source": [
    "### 3. Write a Python Program to calculate your Body Mass Index?"
   ]
  },
  {
   "cell_type": "code",
   "execution_count": 5,
   "metadata": {},
   "outputs": [
    {
     "name": "stdout",
     "output_type": "stream",
     "text": [
      "Enter weight in kg: 90\n",
      "90.0 kg\n",
      "Enter height in m: 1.3\n",
      "1.3 m\n",
      "Your BMI is:  53.25443786982248\n"
     ]
    }
   ],
   "source": [
    "def bmi(w,h):\n",
    "    result = w/h**2\n",
    "    print(\"Your BMI is: \",result)\n",
    "    \n",
    "    \n",
    "weight = float(input(\"Enter weight in kg: \"))\n",
    "print(weight,\"kg\")\n",
    "height = float(input(\"Enter height in m: \"))\n",
    "print(height,\"m\")\n",
    "\n",
    "bmi(weight,height)\n"
   ]
  },
  {
   "cell_type": "markdown",
   "metadata": {},
   "source": [
    "### 4. Write a Python Program to calculate the natural logarithm of any number?"
   ]
  },
  {
   "cell_type": "code",
   "execution_count": 6,
   "metadata": {},
   "outputs": [
    {
     "name": "stdout",
     "output_type": "stream",
     "text": [
      "Enter any number: 1\n",
      "0.0\n"
     ]
    }
   ],
   "source": [
    "import math\n",
    "n = float(input(\"Enter any number: \"))\n",
    "print(math.log(n))"
   ]
  },
  {
   "cell_type": "markdown",
   "metadata": {},
   "source": [
    "### 5. Write a Python Program for cube sum of first n natural numbers?"
   ]
  },
  {
   "cell_type": "code",
   "execution_count": 7,
   "metadata": {},
   "outputs": [
    {
     "name": "stdout",
     "output_type": "stream",
     "text": [
      "2025\n"
     ]
    }
   ],
   "source": [
    "def sum_cube(n):\n",
    "    sum = 0\n",
    "    for i in range(1,n+1):\n",
    "        sum = sum+(i*i*i)\n",
    "    return sum\n",
    "\n",
    "\n",
    "print(sum_cube(9))"
   ]
  },
  {
   "cell_type": "code",
   "execution_count": null,
   "metadata": {},
   "outputs": [],
   "source": []
  }
 ],
 "metadata": {
  "kernelspec": {
   "display_name": "Python 3",
   "language": "python",
   "name": "python3"
  },
  "language_info": {
   "codemirror_mode": {
    "name": "ipython",
    "version": 3
   },
   "file_extension": ".py",
   "mimetype": "text/x-python",
   "name": "python",
   "nbconvert_exporter": "python",
   "pygments_lexer": "ipython3",
   "version": "3.8.8"
  }
 },
 "nbformat": 4,
 "nbformat_minor": 4
}
