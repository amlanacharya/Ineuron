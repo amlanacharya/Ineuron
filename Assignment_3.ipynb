{
 "cells": [
  {
   "cell_type": "markdown",
   "id": "a9838f53",
   "metadata": {},
   "source": [
    "\n",
    "## Ans 1\n",
    "Advantages of having functions: 1) Reduce the reusability of code 2) Modular programming 3) Increases redability of the program 4) Tracking of code become easier\n",
    "## Ans 2\n",
    "Code in the function runs when it is called\n",
    "## Ans 3\n",
    "When we have to create the function we have to write def before the function name. Eg: def function_name(): pass\n",
    "## Ans 4\n",
    "#FUNCTION def function_name(): pass function_name() #function call\n",
    "## Ans 5\n",
    "There is only 1 GLOBAL scope in the python program and it remains till the program is not terminated, on the other hand there are 3 local scope inside the function local,global,built_in.\n",
    "## Ans 6\n",
    "Variable in the local scope are destroyed as soon as work of funtion is completed.\n",
    "## Ans 7\n",
    "In function we can return value as per the need of the program, Yes its possible to hav ereturn value in an expression.\n",
    "## Ans 8\n",
    "If the funtion does not have a return statement it will not return anything.\n",
    "## Ans 9\n",
    "To make function variable as a global variable use GLOBAL keyword before the variable name. Eg: a = 15 def fun(): global a a+=5 print(\"Value of x inside a function :\", x) fun() print(\"Value of x outside a function :\", x)\n",
    "## Ans 10\n",
    "Datatype of None is NONETYPE\n",
    "## Ans 11\n",
    "import areallyourpetsnamederic will import the areallyourpetsnamederic in thar particular program and we can us the functions defined inside areallyourpetsnamederic module\n",
    "## Ans 12\n",
    "import spam\n",
    "spam.bacon()\n",
    "## Ans 13\n",
    "We can use try except to save a program from crashing.\n",
    "## Ans 14\n",
    "If there is any error in the code and if the code is inside the try block it will automatically come ouside the try block as soon as it find the error in the particular line and will not execute after that line and will fall inside the except block and do the further processing"
   ]
  },
  {
   "cell_type": "code",
   "execution_count": null,
   "id": "a9bbc257",
   "metadata": {},
   "outputs": [],
   "source": []
  }
 ],
 "metadata": {
  "kernelspec": {
   "display_name": "Python 3",
   "language": "python",
   "name": "python3"
  },
  "language_info": {
   "codemirror_mode": {
    "name": "ipython",
    "version": 3
   },
   "file_extension": ".py",
   "mimetype": "text/x-python",
   "name": "python",
   "nbconvert_exporter": "python",
   "pygments_lexer": "ipython3",
   "version": "3.8.8"
  }
 },
 "nbformat": 4,
 "nbformat_minor": 5
}
