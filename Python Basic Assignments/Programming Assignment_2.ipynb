{
 "cells": [
  {
   "cell_type": "markdown",
   "metadata": {},
   "source": [
    "### 1. Write a Python program to convert kilometers to miles?"
   ]
  },
  {
   "cell_type": "code",
   "execution_count": 1,
   "metadata": {},
   "outputs": [
    {
     "name": "stdout",
     "output_type": "stream",
     "text": [
      "100 km is equal to 62.137100000000004miles.\n"
     ]
    }
   ],
   "source": [
    "def km_to_miles(km):\n",
    "    miles = km*0.621371\n",
    "    print(\"{} km is equal to {}miles.\".format(km,miles))\n",
    "\n",
    "a = km_to_miles(100)"
   ]
  },
  {
   "cell_type": "markdown",
   "metadata": {},
   "source": [
    "### 2. Write a Python program to convert Celsius to Fahrenheit?"
   ]
  },
  {
   "cell_type": "code",
   "execution_count": 3,
   "metadata": {},
   "outputs": [
    {
     "name": "stdout",
     "output_type": "stream",
     "text": [
      "25C is equal to 77.0F\n"
     ]
    }
   ],
   "source": [
    "def celsius_to_fahrenheit(C):\n",
    "    f = (C * 9/5) + 32\n",
    "    print(\"{}C is equal to {}F\".format(C,f))\n",
    "    \n",
    "a = celsius_to_fahrenheit(25)"
   ]
  },
  {
   "cell_type": "markdown",
   "metadata": {},
   "source": [
    "### 3. Write a Python program to display calendar?"
   ]
  },
  {
   "cell_type": "code",
   "execution_count": 6,
   "metadata": {},
   "outputs": [
    {
     "name": "stdout",
     "output_type": "stream",
     "text": [
      "   September 2021\n",
      "Mo Tu We Th Fr Sa Su\n",
      "       1  2  3  4  5\n",
      " 6  7  8  9 10 11 12\n",
      "13 14 15 16 17 18 19\n",
      "20 21 22 23 24 25 26\n",
      "27 28 29 30\n",
      "\n"
     ]
    }
   ],
   "source": [
    "import calendar\n",
    "def display_cal(year,month):\n",
    "    print(calendar.month(year,month))\n",
    "a = display_cal(2021,9)\n"
   ]
  },
  {
   "cell_type": "markdown",
   "metadata": {},
   "source": [
    "### 4. Write a Python program to solve quadratic equation?"
   ]
  },
  {
   "cell_type": "code",
   "execution_count": 7,
   "metadata": {},
   "outputs": [
    {
     "name": "stdout",
     "output_type": "stream",
     "text": [
      "Enter coefficient of x^2: 4\n",
      "Enter coefficient of x: 3\n",
      "Enter constant: 1\n",
      "Quadratic Equation is: 4x^2+3x+1=0\n",
      "Two roots of our quadratic equation are (-0.375+0.33071891388307384j) and (-0.375-0.33071891388307384j)\n"
     ]
    }
   ],
   "source": [
    "# ax^2+bx+c=0\n",
    "a = int(input(\"Enter coefficient of x^2: \"))\n",
    "b = int(input(\"Enter coefficient of x: \"))\n",
    "c = int(input(\"Enter constant: \"))\n",
    "\n",
    "print(\"Quadratic Equation is: {}x^2+{}x+{}=0\".format(a,b,c))\n",
    "\n",
    "if a==0:\n",
    "    print(\"a cant be equal to 0 for a quadratic equation\")\n",
    "else:\n",
    "    r = b**2 - 4*a*c\n",
    "    x1 = (((-b) + r**0.5)/(2*a))\n",
    "    x2 = (((-b) - r**0.5)/(2*a))\n",
    "    print(\"Two roots of our quadratic equation are {} and {}\".format(x1,x2))"
   ]
  },
  {
   "cell_type": "markdown",
   "metadata": {},
   "source": [
    "### 5. Write a Python program to swap two variables without temp variable?"
   ]
  },
  {
   "cell_type": "code",
   "execution_count": 9,
   "metadata": {},
   "outputs": [
    {
     "name": "stdout",
     "output_type": "stream",
     "text": [
      "Enter 1stnumber: 8\n",
      "Enter 2ndnumber: 9\n",
      "before swapping a = 8 and b = 9\n",
      "after swapping a = 9 and b = 8\n"
     ]
    }
   ],
   "source": [
    "a = int(input(\"Enter 1stnumber: \"))\n",
    "b = int(input(\"Enter 2ndnumber: \"))\n",
    "\n",
    "print('before swapping a = {} and b = {}'.format(a,b))\n",
    "\n",
    "a = a+b\n",
    "b = a-b\n",
    "a = a-b\n",
    "\n",
    "print('after swapping a = {} and b = {}'.format(a,b))"
   ]
  },
  {
   "cell_type": "code",
   "execution_count": null,
   "metadata": {},
   "outputs": [],
   "source": []
  }
 ],
 "metadata": {
  "kernelspec": {
   "display_name": "Python 3",
   "language": "python",
   "name": "python3"
  },
  "language_info": {
   "codemirror_mode": {
    "name": "ipython",
    "version": 3
   },
   "file_extension": ".py",
   "mimetype": "text/x-python",
   "name": "python",
   "nbconvert_exporter": "python",
   "pygments_lexer": "ipython3",
   "version": "3.8.8"
  }
 },
 "nbformat": 4,
 "nbformat_minor": 4
}
